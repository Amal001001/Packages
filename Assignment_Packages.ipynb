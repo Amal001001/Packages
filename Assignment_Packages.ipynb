{
 "cells": [
  {
   "cell_type": "markdown",
   "id": "0b2c2139",
   "metadata": {},
   "source": [
    "# Assignment: Packages"
   ]
  },
  {
   "cell_type": "markdown",
   "id": "dca2373b",
   "metadata": {},
   "source": [
    "#### 1. Create a Python Class that can perform the following methods when given a random list of numbers of variable length.\n",
    "#### 2. Create 2 additional methods to add to the below class that you think would be useful."
   ]
  },
  {
   "cell_type": "code",
   "execution_count": 26,
   "id": "6d53b1cc",
   "metadata": {},
   "outputs": [],
   "source": [
    "import numpy as np"
   ]
  },
  {
   "cell_type": "code",
   "execution_count": 236,
   "id": "f9ee91cd",
   "metadata": {},
   "outputs": [],
   "source": [
    "class MyClass(object):\n",
    "    \n",
    "    # attributes ---> variables\n",
    "    # methods ---> functions\n",
    "    \n",
    "    # initialization\n",
    "    # self --> object \n",
    "    def __init__(self, list_input):\n",
    "        self.list_input = list_input\n",
    "\n",
    "#------------------------------------------------------------------  \n",
    "\n",
    "    #return max value    \n",
    "    def return_max(self):\n",
    "        # we having the user input as a list\n",
    "        counter = 0\n",
    "        if (len(self.list_input) == 0):\n",
    "            return False\n",
    "        else:\n",
    "            max_value = self.list_input[0]\n",
    "    \n",
    "            for x in self.list_input:\n",
    "\n",
    "                if (x > max_value):\n",
    "                    max_value = x\n",
    "                \n",
    "                counter += 1\n",
    "            \n",
    "            return(max_value)\n",
    "#------------------------------------------------------------------   \n",
    "\n",
    "    #return min value    \n",
    "    def return_min(self):\n",
    "        # we having the user input as a list\n",
    "        counter = 0\n",
    "        if (len(self.list_input) == 0):\n",
    "            return False\n",
    "        else:\n",
    "            min_value = self.list_input[0]\n",
    "    \n",
    "            for x in self.list_input:\n",
    "\n",
    "                if (x < min_value):\n",
    "                    min_value = x\n",
    "                \n",
    "                counter += 1\n",
    "        \n",
    "            return(min_value)\n",
    "#------------------------------------------------------------------          \n",
    "\n",
    "    #return the max value squared   \n",
    "    def return_max_squared(self):\n",
    "        # we having the user input as a list\n",
    "        counter = 0\n",
    "        if (len(self.list_input) == 0):\n",
    "            return False\n",
    "        else:\n",
    "            max_value = self.list_input[0]\n",
    "    \n",
    "            for x in self.list_input:\n",
    "\n",
    "                if (x > max_value):\n",
    "                    max_value = x\n",
    "                \n",
    "                counter += 1\n",
    "            \n",
    "            return(max_value**2)\n",
    "#------------------------------------------------------------------ \n",
    "\n",
    "    #return the length of the list\n",
    "    def return_length(self):\n",
    "        # we having the user input as a list\n",
    "        \n",
    "        return(len(self.list_input))      \n",
    "#------------------------------------------------------------------ \n",
    "\n",
    "    #return the sum of all the positive elements    \n",
    "    def return_positive_sum(self):\n",
    "        # we having the user input as a list\n",
    "        counter = 0\n",
    "        if (len(self.list_input) == 0):\n",
    "            return False\n",
    "        else:\n",
    "            max_value = 0\n",
    "    \n",
    "            for x in self.list_input:\n",
    "\n",
    "                if (x > 0):\n",
    "                    max_value += x\n",
    "                \n",
    "                counter += 1\n",
    "            \n",
    "            return(max_value)\n",
    "#------------------------------------------------------------------  \n",
    "\n",
    "#return the count of all the negative elements    \n",
    "    def return_negative_count(self):\n",
    "        # we having the user input as a list\n",
    "        counter = 0\n",
    "        if (len(self.list_input) == 0):\n",
    "            return False\n",
    "        else:\n",
    "            negative_count = 0\n",
    "    \n",
    "            for x in self.list_input:\n",
    "\n",
    "                if (x < 0):\n",
    "                    negative_count += 1\n",
    "                \n",
    "\n",
    "                counter += 1\n",
    "            \n",
    "            return(negative_count)\n",
    "#------------------------------------------------------------------  \n",
    "\n",
    "#return the average of the list  \n",
    "    def return_average(self):\n",
    "        # we having the user input as a list\n",
    "        counter = 0\n",
    "        if (len(self.list_input) == 0):\n",
    "            return False\n",
    "        else:\n",
    "            ave = 0\n",
    "    \n",
    "            for x in self.list_input:\n",
    "\n",
    "                ave += x\n",
    "                \n",
    "                counter += 1\n",
    "            \n",
    "            return(ave/len(self.list_input))\n",
    "#------------------------------------------------------------------  \n",
    "\n",
    "#return the reverse of the list    \n",
    "    def return_reverse_list(self):\n",
    "    \n",
    "        counter = 0\n",
    "    \n",
    "        for x in self.list_input:\n",
    "            counter += 1\n",
    "    \n",
    "        index_number = 0\n",
    "        y = 1\n",
    "    \n",
    "        for x in self.list_input:\n",
    "            if (counter%2 == 0):\n",
    "                while (y <= (counter/2)):\n",
    "                \n",
    "                    holder1 = self.list_input[index_number]\n",
    "                    holder2 = self.list_input[(index_number*(-1)) -1]\n",
    "                \n",
    "                    self.list_input[index_number] = holder2\n",
    "                    self.list_input[(index_number*(-1)) -1] = holder1\n",
    "                \n",
    "                    index_number += 1\n",
    "                    y += 1\n",
    "            \n",
    "            else:\n",
    "                counter -= 1\n",
    "                while (y <= (counter/2)):\n",
    "                \n",
    "                    holder1 = self.list_input[index_number]\n",
    "                    holder2 = self.list_input[(index_number*(-1)) -1]\n",
    "                \n",
    "                    self.list_input[index_number] = holder2\n",
    "                    self.list_input[(index_number*(-1)) -1] = holder1\n",
    "                \n",
    "                    index_number += 1\n",
    "                    y += 1\n",
    "            \n",
    "        return(self.list_input)"
   ]
  },
  {
   "cell_type": "code",
   "execution_count": 237,
   "id": "38296f45",
   "metadata": {},
   "outputs": [],
   "source": [
    "a = MyClass([])"
   ]
  },
  {
   "cell_type": "code",
   "execution_count": 238,
   "id": "ac743f4f",
   "metadata": {},
   "outputs": [
    {
     "data": {
      "text/plain": [
       "False"
      ]
     },
     "execution_count": 238,
     "metadata": {},
     "output_type": "execute_result"
    }
   ],
   "source": [
    "a.return_max()"
   ]
  },
  {
   "cell_type": "code",
   "execution_count": 239,
   "id": "51638611",
   "metadata": {},
   "outputs": [
    {
     "data": {
      "text/plain": [
       "False"
      ]
     },
     "execution_count": 239,
     "metadata": {},
     "output_type": "execute_result"
    }
   ],
   "source": [
    "a.return_min()"
   ]
  },
  {
   "cell_type": "code",
   "execution_count": 240,
   "id": "f6a758cb",
   "metadata": {},
   "outputs": [
    {
     "data": {
      "text/plain": [
       "False"
      ]
     },
     "execution_count": 240,
     "metadata": {},
     "output_type": "execute_result"
    }
   ],
   "source": [
    "a.return_max_squared()"
   ]
  },
  {
   "cell_type": "code",
   "execution_count": 241,
   "id": "3a1d67c8",
   "metadata": {},
   "outputs": [
    {
     "data": {
      "text/plain": [
       "0"
      ]
     },
     "execution_count": 241,
     "metadata": {},
     "output_type": "execute_result"
    }
   ],
   "source": [
    "a.return_length()"
   ]
  },
  {
   "cell_type": "code",
   "execution_count": 242,
   "id": "c011801c",
   "metadata": {},
   "outputs": [
    {
     "data": {
      "text/plain": [
       "False"
      ]
     },
     "execution_count": 242,
     "metadata": {},
     "output_type": "execute_result"
    }
   ],
   "source": [
    "a.return_positive_sum()"
   ]
  },
  {
   "cell_type": "code",
   "execution_count": 243,
   "id": "6c94a76f",
   "metadata": {},
   "outputs": [
    {
     "data": {
      "text/plain": [
       "False"
      ]
     },
     "execution_count": 243,
     "metadata": {},
     "output_type": "execute_result"
    }
   ],
   "source": [
    "a.return_negative_count()"
   ]
  },
  {
   "cell_type": "code",
   "execution_count": 244,
   "id": "84578724",
   "metadata": {},
   "outputs": [
    {
     "data": {
      "text/plain": [
       "False"
      ]
     },
     "execution_count": 244,
     "metadata": {},
     "output_type": "execute_result"
    }
   ],
   "source": [
    "a.return_average()"
   ]
  },
  {
   "cell_type": "code",
   "execution_count": 245,
   "id": "70dc6b03",
   "metadata": {},
   "outputs": [
    {
     "data": {
      "text/plain": [
       "[]"
      ]
     },
     "execution_count": 245,
     "metadata": {},
     "output_type": "execute_result"
    }
   ],
   "source": [
    "a.return_reverse_list()"
   ]
  },
  {
   "cell_type": "code",
   "execution_count": 246,
   "id": "1cd89213",
   "metadata": {},
   "outputs": [],
   "source": [
    "b = MyClass([1,-2,3])"
   ]
  },
  {
   "cell_type": "code",
   "execution_count": 247,
   "id": "aba4325d",
   "metadata": {},
   "outputs": [
    {
     "data": {
      "text/plain": [
       "3"
      ]
     },
     "execution_count": 247,
     "metadata": {},
     "output_type": "execute_result"
    }
   ],
   "source": [
    "b.return_max()"
   ]
  },
  {
   "cell_type": "code",
   "execution_count": 248,
   "id": "78da025b",
   "metadata": {},
   "outputs": [
    {
     "data": {
      "text/plain": [
       "-2"
      ]
     },
     "execution_count": 248,
     "metadata": {},
     "output_type": "execute_result"
    }
   ],
   "source": [
    "b.return_min()"
   ]
  },
  {
   "cell_type": "code",
   "execution_count": 249,
   "id": "28b4ac80",
   "metadata": {},
   "outputs": [
    {
     "data": {
      "text/plain": [
       "9"
      ]
     },
     "execution_count": 249,
     "metadata": {},
     "output_type": "execute_result"
    }
   ],
   "source": [
    "b.return_max_squared()"
   ]
  },
  {
   "cell_type": "code",
   "execution_count": 250,
   "id": "e289c0cd",
   "metadata": {},
   "outputs": [
    {
     "data": {
      "text/plain": [
       "3"
      ]
     },
     "execution_count": 250,
     "metadata": {},
     "output_type": "execute_result"
    }
   ],
   "source": [
    "b.return_length()"
   ]
  },
  {
   "cell_type": "code",
   "execution_count": 251,
   "id": "4815cb67",
   "metadata": {},
   "outputs": [
    {
     "data": {
      "text/plain": [
       "4"
      ]
     },
     "execution_count": 251,
     "metadata": {},
     "output_type": "execute_result"
    }
   ],
   "source": [
    "b.return_positive_sum()"
   ]
  },
  {
   "cell_type": "code",
   "execution_count": 252,
   "id": "35c029e6",
   "metadata": {},
   "outputs": [
    {
     "data": {
      "text/plain": [
       "1"
      ]
     },
     "execution_count": 252,
     "metadata": {},
     "output_type": "execute_result"
    }
   ],
   "source": [
    "b.return_negative_count()"
   ]
  },
  {
   "cell_type": "code",
   "execution_count": 253,
   "id": "e0e18445",
   "metadata": {},
   "outputs": [
    {
     "data": {
      "text/plain": [
       "0.6666666666666666"
      ]
     },
     "execution_count": 253,
     "metadata": {},
     "output_type": "execute_result"
    }
   ],
   "source": [
    "b.return_average()"
   ]
  },
  {
   "cell_type": "code",
   "execution_count": 254,
   "id": "25e570f0",
   "metadata": {},
   "outputs": [
    {
     "data": {
      "text/plain": [
       "[3, -2, 1]"
      ]
     },
     "execution_count": 254,
     "metadata": {},
     "output_type": "execute_result"
    }
   ],
   "source": [
    "b.return_reverse_list()"
   ]
  },
  {
   "cell_type": "markdown",
   "id": "6ba5fbd0",
   "metadata": {},
   "source": [
    "-------------------------------------------------------------------------------------------------------------------------"
   ]
  },
  {
   "cell_type": "code",
   "execution_count": 1,
   "id": "b515dc54",
   "metadata": {},
   "outputs": [
    {
     "name": "stdout",
     "output_type": "stream",
     "text": [
      "Requirement already satisfied: setuptools in c:\\users\\math1\\anaconda3\\lib\\site-packages (61.2.0)\n",
      "Note: you may need to restart the kernel to use updated packages.\n"
     ]
    }
   ],
   "source": [
    "pip install setuptools"
   ]
  },
  {
   "cell_type": "code",
   "execution_count": 256,
   "id": "f50e3048",
   "metadata": {},
   "outputs": [
    {
     "name": "stdout",
     "output_type": "stream",
     "text": [
      "Requirement already satisfied: wheel in c:\\users\\math1\\anaconda3\\lib\\site-packages (0.37.1)\n",
      "Note: you may need to restart the kernel to use updated packages.\n"
     ]
    }
   ],
   "source": [
    "pip install wheel"
   ]
  },
  {
   "cell_type": "code",
   "execution_count": 258,
   "id": "243c40d3",
   "metadata": {},
   "outputs": [
    {
     "name": "stdout",
     "output_type": "stream",
     "text": [
      "Requirement already satisfied: twine in c:\\users\\math1\\anaconda3\\lib\\site-packages (4.0.1)\n",
      "Requirement already satisfied: requests-toolbelt!=0.9.0,>=0.8.0 in c:\\users\\math1\\anaconda3\\lib\\site-packages (from twine) (0.9.1)\n",
      "Requirement already satisfied: rich>=12.0.0 in c:\\users\\math1\\anaconda3\\lib\\site-packages (from twine) (12.5.1)\n",
      "Requirement already satisfied: readme-renderer>=35.0 in c:\\users\\math1\\anaconda3\\lib\\site-packages (from twine) (35.0)\n",
      "Requirement already satisfied: requests>=2.20 in c:\\users\\math1\\anaconda3\\lib\\site-packages (from twine) (2.27.1)\n",
      "Requirement already satisfied: pkginfo>=1.8.1 in c:\\users\\math1\\anaconda3\\lib\\site-packages (from twine) (1.8.2)\n",
      "Requirement already satisfied: urllib3>=1.26.0 in c:\\users\\math1\\anaconda3\\lib\\site-packages (from twine) (1.26.9)\n",
      "Requirement already satisfied: rfc3986>=1.4.0 in c:\\users\\math1\\anaconda3\\lib\\site-packages (from twine) (2.0.0)\n",
      "Requirement already satisfied: importlib-metadata>=3.6 in c:\\users\\math1\\anaconda3\\lib\\site-packages (from twine) (4.11.3)\n",
      "Requirement already satisfied: keyring>=15.1 in c:\\users\\math1\\anaconda3\\lib\\site-packages (from twine) (23.4.0)\n",
      "Requirement already satisfied: zipp>=0.5 in c:\\users\\math1\\anaconda3\\lib\\site-packages (from importlib-metadata>=3.6->twine) (3.7.0)\n",
      "Requirement already satisfied: pywin32-ctypes!=0.1.0,!=0.1.1 in c:\\users\\math1\\anaconda3\\lib\\site-packages (from keyring>=15.1->twine) (0.2.0)\n",
      "Requirement already satisfied: Pygments>=2.5.1 in c:\\users\\math1\\anaconda3\\lib\\site-packages (from readme-renderer>=35.0->twine) (2.11.2)\n",
      "Requirement already satisfied: docutils>=0.13.1 in c:\\users\\math1\\anaconda3\\lib\\site-packages (from readme-renderer>=35.0->twine) (0.17.1)\n",
      "Requirement already satisfied: bleach>=2.1.0 in c:\\users\\math1\\anaconda3\\lib\\site-packages (from readme-renderer>=35.0->twine) (4.1.0)\n",
      "Requirement already satisfied: packaging in c:\\users\\math1\\anaconda3\\lib\\site-packages (from bleach>=2.1.0->readme-renderer>=35.0->twine) (21.3)\n",
      "Requirement already satisfied: six>=1.9.0 in c:\\users\\math1\\anaconda3\\lib\\site-packages (from bleach>=2.1.0->readme-renderer>=35.0->twine) (1.16.0)\n",
      "Requirement already satisfied: webencodings in c:\\users\\math1\\anaconda3\\lib\\site-packages (from bleach>=2.1.0->readme-renderer>=35.0->twine) (0.5.1)\n",
      "Requirement already satisfied: charset-normalizer~=2.0.0 in c:\\users\\math1\\anaconda3\\lib\\site-packages (from requests>=2.20->twine) (2.0.4)\n",
      "Requirement already satisfied: idna<4,>=2.5 in c:\\users\\math1\\anaconda3\\lib\\site-packages (from requests>=2.20->twine) (3.3)\n",
      "Requirement already satisfied: certifi>=2017.4.17 in c:\\users\\math1\\anaconda3\\lib\\site-packages (from requests>=2.20->twine) (2021.10.8)\n",
      "Requirement already satisfied: commonmark<0.10.0,>=0.9.0 in c:\\users\\math1\\anaconda3\\lib\\site-packages (from rich>=12.0.0->twine) (0.9.1)\n",
      "Requirement already satisfied: pyparsing!=3.0.5,>=2.0.2 in c:\\users\\math1\\anaconda3\\lib\\site-packages (from packaging->bleach>=2.1.0->readme-renderer>=35.0->twine) (3.0.4)\n",
      "Note: you may need to restart the kernel to use updated packages.\n"
     ]
    }
   ],
   "source": [
    "pip install twine"
   ]
  },
  {
   "cell_type": "markdown",
   "id": "036770a9",
   "metadata": {},
   "source": [
    "------------------------------------------------------------------------------------------------------------------------"
   ]
  },
  {
   "cell_type": "code",
   "execution_count": 1,
   "id": "64edbdcd",
   "metadata": {},
   "outputs": [
    {
     "name": "stdout",
     "output_type": "stream",
     "text": [
      "Looking in indexes: https://test.pypi.org/simple/\n",
      "Collecting example-pkg-a-777==1.0.0\n",
      "  Downloading https://test-files.pythonhosted.org/packages/b9/fb/28d76027ba12ed194a496d48543bbb42ac9fc02f479837cb253031d2a539/example_pkg_a_777-1.0.0-py3-none-any.whl (3.4 kB)\n",
      "Installing collected packages: example-pkg-a-777\n",
      "Successfully installed example-pkg-a-777-1.0.0\n"
     ]
    }
   ],
   "source": [
    "# Test the package\n",
    "!pip install -i https://test.pypi.org/simple/ example-pkg-a-777==1.0.0"
   ]
  },
  {
   "cell_type": "code",
   "execution_count": 3,
   "id": "3983ee26",
   "metadata": {},
   "outputs": [],
   "source": [
    "from operations_on_lists_pkg import MyClass"
   ]
  },
  {
   "cell_type": "code",
   "execution_count": 7,
   "id": "bb5dda89",
   "metadata": {},
   "outputs": [
    {
     "name": "stdout",
     "output_type": "stream",
     "text": [
      "max element in test is 5\n"
     ]
    }
   ],
   "source": [
    "test = MyClass([-1,2,3,4,5,0])\n",
    "\n",
    "print(f'max element in test is {test.return_max()}')\n"
   ]
  },
  {
   "cell_type": "code",
   "execution_count": 8,
   "id": "d1c78e38",
   "metadata": {},
   "outputs": [
    {
     "name": "stdout",
     "output_type": "stream",
     "text": [
      "min element in test is -1\n"
     ]
    }
   ],
   "source": [
    "print(f'min element in test is {test.return_min()}')"
   ]
  },
  {
   "cell_type": "code",
   "execution_count": 9,
   "id": "b5af8b2a",
   "metadata": {},
   "outputs": [
    {
     "name": "stdout",
     "output_type": "stream",
     "text": [
      "max element squared in test is 25\n"
     ]
    }
   ],
   "source": [
    "print(f'max element squared in test is {test.return_max_squared()}')"
   ]
  },
  {
   "cell_type": "code",
   "execution_count": 10,
   "id": "8af44f9d",
   "metadata": {},
   "outputs": [
    {
     "name": "stdout",
     "output_type": "stream",
     "text": [
      "the length of the list test is 6\n"
     ]
    }
   ],
   "source": [
    "print(f'the length of the list test is {test.return_length()}')"
   ]
  },
  {
   "cell_type": "code",
   "execution_count": 11,
   "id": "07d2259d",
   "metadata": {},
   "outputs": [
    {
     "name": "stdout",
     "output_type": "stream",
     "text": [
      "the sum of all the positive elements is 14\n"
     ]
    }
   ],
   "source": [
    "print(f'the sum of all the positive elements is {test.return_positive_sum()}')"
   ]
  },
  {
   "cell_type": "code",
   "execution_count": 12,
   "id": "47bcce63",
   "metadata": {},
   "outputs": [
    {
     "name": "stdout",
     "output_type": "stream",
     "text": [
      "the count of all the negative elements is 1\n"
     ]
    }
   ],
   "source": [
    "print(f'the count of all the negative elements is {test.return_negative_count()}')"
   ]
  },
  {
   "cell_type": "code",
   "execution_count": 13,
   "id": "0f67585d",
   "metadata": {},
   "outputs": [
    {
     "name": "stdout",
     "output_type": "stream",
     "text": [
      "the average of the list is 2.1666666666666665\n"
     ]
    }
   ],
   "source": [
    "print(f'the average of the list is {test.return_average()}')"
   ]
  },
  {
   "cell_type": "code",
   "execution_count": 14,
   "id": "f93919e0",
   "metadata": {},
   "outputs": [
    {
     "name": "stdout",
     "output_type": "stream",
     "text": [
      "the reverse of the list is [0, 5, 4, 3, 2, -1]\n"
     ]
    }
   ],
   "source": [
    "print(f'the reverse of the list is {test.return_reverse_list()}')"
   ]
  }
 ],
 "metadata": {
  "kernelspec": {
   "display_name": "Python 3 (ipykernel)",
   "language": "python",
   "name": "python3"
  },
  "language_info": {
   "codemirror_mode": {
    "name": "ipython",
    "version": 3
   },
   "file_extension": ".py",
   "mimetype": "text/x-python",
   "name": "python",
   "nbconvert_exporter": "python",
   "pygments_lexer": "ipython3",
   "version": "3.9.12"
  }
 },
 "nbformat": 4,
 "nbformat_minor": 5
}
